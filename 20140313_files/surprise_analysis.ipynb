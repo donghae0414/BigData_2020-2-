{
 "cells": [
  {
   "cell_type": "code",
   "execution_count": 18,
   "metadata": {},
   "outputs": [],
   "source": [
    "from __future__ import (absolute_import, division, print_function,\n",
    "unicode_literals)\n",
    "import time\n",
    "import datetime\n",
    "import random\n",
    "import numpy as np\n",
    "import six\n",
    "from tabulate import tabulate\n",
    "from surprise import Dataset\n",
    "from surprise.model_selection import cross_validate\n",
    "from surprise.model_selection import KFold\n",
    "from surprise import NormalPredictor\n",
    "from surprise import BaselineOnly\n",
    "from surprise import KNNBasic\n",
    "from surprise import KNNWithMeans\n",
    "from surprise import KNNBaseline\n",
    "from surprise import SVD\n",
    "from surprise import SVDpp\n",
    "from surprise import NMF\n",
    "from surprise import SlopeOne\n",
    "from surprise import CoClustering"
   ]
  },
  {
   "cell_type": "code",
   "execution_count": 19,
   "metadata": {},
   "outputs": [],
   "source": [
    "algorithms = (SVD, SVDpp, NMF, SlopeOne, KNNBasic, KNNWithMeans, KNNBaseline, CoClustering, BaselineOnly, NormalPredictor)"
   ]
  },
  {
   "cell_type": "code",
   "execution_count": 21,
   "metadata": {},
   "outputs": [],
   "source": [
    "#raw table\n",
    "stable = 'http://surprise.readthedocs.io/en/stable/'\n",
    "LINK = {'SVD': '[{}]({})'.format('SVD',\n",
    "stable +\n",
    "'matrix_factorization.html#surprise.prediction_algorithms.matrix_factorization.SVD'),\n",
    "'SVDpp': '[{}]({})'.format('SVD++',\n",
    "stable +\n",
    "'matrix_factorization.html#surprise.prediction_algorithms.matrix_factorization.SVDpp'),\n",
    "'NMF': '[{}]({})'.format('NMF',\n",
    "stable +\n",
    "'matrix_factorization.html#surprise.prediction_algorithms.matrix_factorization.NMF'),\n",
    "'SlopeOne': '[{}]({})'.format('Slope One',\n",
    "stable +\n",
    "'slope_one.html#surprise.prediction_algorithms.slope_one.SlopeOne'),\n",
    "'KNNBasic': '[{}]({})'.format('k-NN',\n",
    "stable +\n",
    "'knn_inspired.html#surprise.prediction_algorithms.knns.KNNBasic'),\n",
    "'KNNWithMeans': '[{}]({})'.format('Centered k-NN',\n",
    "stable +\n",
    "'knn_inspired.html#surprise.prediction_algorithms.knns.KNNWithMeans'),\n",
    "'KNNBaseline': '[{}]({})'.format('k-NN Baseline',\n",
    "stable +\n",
    "'knn_inspired.html#surprise.prediction_algorithms.knns.KNNBaseline'),\n",
    "'CoClustering': '[{}]({})'.format('Co-Clustering',\n",
    "stable +\n",
    "'co_clustering.html#surprise.prediction_algorithms.co_clustering.CoClustering'),\n",
    "'BaselineOnly': '[{}]({})'.format('Baseline',\n",
    "stable +\n",
    "'basic_algorithms.html#surprise.prediction_algorithms.baseline_only.BaselineOnly'),\n",
    "'NormalPredictor': '[{}]({})'.format('Random',\n",
    "stable +\n",
    "'basic_algorithms.html#surprise.prediction_algorithms.random_pred.NormalPredictor'),\n",
    "'ml-100k': '[{}]({})'.format('Movielens 100k',\n",
    "'http://grouplens.org/datasets/movielens/100k'),\n",
    "'ml-1m': '[{}]({})'.format('Movielens 1M',\n",
    "'http://grouplens.org/datasets/movielens/1m'),\n",
    "}\n"
   ]
  },
  {
   "cell_type": "code",
   "execution_count": 22,
   "metadata": {},
   "outputs": [],
   "source": [
    "np.random.seed(0)\n",
    "dataset = 'ml-1m'\n",
    "data = Dataset.load_builtin(dataset)\n",
    "kf = KFold(random_state=0) # cv option setting\n",
    "table = []"
   ]
  },
  {
   "cell_type": "code",
   "execution_count": null,
   "metadata": {},
   "outputs": [
    {
     "name": "stdout",
     "output_type": "stream",
     "text": [
      "|:----------------------------------------------------------------------------------------------------------------------------------|------:|------:|\n",
      "| [SVD](http://surprise.readthedocs.io/en/stable/matrix_factorization.html#surprise.prediction_algorithms.matrix_factorization.SVD) | 0.873 | 0.686 |\n"
     ]
    }
   ],
   "source": [
    "for algorithm in algorithms:\n",
    "    out = cross_validate(algorithm(), data, ['rmse', 'mae'], kf)\n",
    "    link = LINK[algorithm.__name__]\n",
    "    mean_rmse = '{:.3f}'.format(np.mean(out['test_rmse']))\n",
    "    mean_mae = '{:.3f}'.format(np.mean(out['test_mae']))\n",
    "    new_line = [link, mean_rmse, mean_mae]\n",
    "    print(tabulate([new_line], tablefmt=\"pipe\")) # print current algo perf\n",
    "    table.append(new_line)"
   ]
  },
  {
   "cell_type": "code",
   "execution_count": null,
   "metadata": {},
   "outputs": [],
   "source": [
    "header = [LINK[dataset],'RMSE','MAE']\n",
    "print(tabulate(table, header, tablefmt=\"pipe\"))"
   ]
  },
  {
   "cell_type": "code",
   "execution_count": null,
   "metadata": {},
   "outputs": [],
   "source": []
  }
 ],
 "metadata": {
  "kernelspec": {
   "display_name": "Python 3",
   "language": "python",
   "name": "python3"
  },
  "language_info": {
   "codemirror_mode": {
    "name": "ipython",
    "version": 3
   },
   "file_extension": ".py",
   "mimetype": "text/x-python",
   "name": "python",
   "nbconvert_exporter": "python",
   "pygments_lexer": "ipython3",
   "version": "3.7.6"
  }
 },
 "nbformat": 4,
 "nbformat_minor": 4
}
