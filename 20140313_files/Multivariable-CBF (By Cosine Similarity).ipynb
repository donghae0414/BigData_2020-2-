{
 "cells": [
  {
   "cell_type": "code",
   "execution_count": 1,
   "metadata": {},
   "outputs": [],
   "source": [
    "import os,sys\n",
    "import pandas as pd\n",
    "import numpy as np\n",
    "sys.path.append(os.path.normpath(os.getcwd()))"
   ]
  },
  {
   "cell_type": "code",
   "execution_count": 2,
   "metadata": {},
   "outputs": [],
   "source": [
    "import warnings\n",
    "warnings.filterwarnings(\"ignore\")"
   ]
  },
  {
   "cell_type": "code",
   "execution_count": 3,
   "metadata": {},
   "outputs": [],
   "source": [
    "metadata = pd.read_csv('metadata_prep.csv')"
   ]
  },
  {
   "cell_type": "code",
   "execution_count": 4,
   "metadata": {},
   "outputs": [
    {
     "data": {
      "text/plain": [
       "(45068, 75551)"
      ]
     },
     "execution_count": 4,
     "metadata": {},
     "output_type": "execute_result"
    }
   ],
   "source": [
    "from sklearn.feature_extraction.text import TfidfVectorizer\n",
    "\n",
    "#Define a TF-IDF Vectorizer Object. Remove all english stop words such as 'the', 'a'\n",
    "tfidf = TfidfVectorizer(stop_words='english')\n",
    "\n",
    "#Replace NaN with an empty string\n",
    "metadata['overview'] = metadata['overview'].fillna('')\n",
    "\n",
    "#Construct the required TF-IDF matrix by fitting and transforming the data\n",
    "tfidf_matrix = tfidf.fit_transform(metadata['overview'])\n",
    "\n",
    "#Output the shape of tfidf_matrix\n",
    "tfidf_matrix.shape\n"
   ]
  },
  {
   "cell_type": "code",
   "execution_count": 5,
   "metadata": {},
   "outputs": [
    {
     "data": {
      "text/plain": [
       "(45068, 46)"
      ]
     },
     "execution_count": 5,
     "metadata": {},
     "output_type": "execute_result"
    }
   ],
   "source": [
    "from sklearn.feature_extraction.text import CountVectorizer\n",
    "\n",
    "metadata['genres'] = metadata['genres'].fillna('')\n",
    "cv = CountVectorizer()\n",
    "g_cv_matrix= cv.fit_transform(metadata['genres'])\n",
    "g_cv_matrix.shape"
   ]
  },
  {
   "cell_type": "code",
   "execution_count": 6,
   "metadata": {},
   "outputs": [
    {
     "data": {
      "text/plain": [
       "(45068, 22574)"
      ]
     },
     "execution_count": 6,
     "metadata": {},
     "output_type": "execute_result"
    }
   ],
   "source": [
    "metadata['title'] = metadata['title'].fillna('')\n",
    "#Construct the required TF-IDF matrix by fitting and transforming the data\n",
    "title_matrix = tfidf.fit_transform(metadata['title'])\n",
    "title_matrix.shape"
   ]
  },
  {
   "cell_type": "code",
   "execution_count": 7,
   "metadata": {},
   "outputs": [],
   "source": [
    "from sklearn.metrics.pairwise import linear_kernel\n",
    "\n",
    "# Compute the cosine similarity matrix\n",
    "cosine_sim = linear_kernel(tfidf_matrix, tfidf_matrix)"
   ]
  },
  {
   "cell_type": "code",
   "execution_count": 8,
   "metadata": {},
   "outputs": [],
   "source": [
    "g_cosine_sim = linear_kernel(g_cv_matrix, g_cv_matrix)"
   ]
  },
  {
   "cell_type": "code",
   "execution_count": 9,
   "metadata": {},
   "outputs": [],
   "source": [
    "t_cosine_sim = linear_kernel(title_matrix, title_matrix)"
   ]
  },
  {
   "cell_type": "code",
   "execution_count": 10,
   "metadata": {},
   "outputs": [],
   "source": [
    "def get_recommendations(title, df, indices, cosine_sim):\n",
    "    # Get the index of the movie that matches the title\n",
    "    idx = indices[title]\n",
    "\n",
    "    # Get the pairwsie similarity scores of all movies with that movie\n",
    "    sim_scores = list(enumerate(cosine_sim[idx]))\n",
    "\n",
    "    # Sort the movies based on the similarity scores\n",
    "    sim_scores = sorted(sim_scores, key=lambda x: x[1], reverse=True)\n",
    "\n",
    "    # Get the scores of the 3 most similar movies\n",
    "    sim_scores = sim_scores[1:30]\n",
    "\n",
    "    # Get the movie indices\n",
    "    movie_indices = [i[0] for i in sim_scores]\n",
    "\n",
    "    # Return the top 3 most similar movies\n",
    "    return df['title'].iloc[movie_indices]\n"
   ]
  },
  {
   "cell_type": "code",
   "execution_count": 11,
   "metadata": {},
   "outputs": [],
   "source": [
    "indices = pd.Series(metadata.index, index=metadata['title']).drop_duplicates()"
   ]
  },
  {
   "cell_type": "code",
   "execution_count": 12,
   "metadata": {},
   "outputs": [],
   "source": [
    "a = get_recommendations('Iron Man 2', metadata, indices, cosine_sim)"
   ]
  },
  {
   "cell_type": "markdown",
   "metadata": {},
   "source": [
    "영화 설명에 대한 유사도"
   ]
  },
  {
   "cell_type": "code",
   "execution_count": 13,
   "metadata": {},
   "outputs": [
    {
     "name": "stdout",
     "output_type": "stream",
     "text": [
      "12555                                     Iron Man\n",
      "20718                                   Iron Man 3\n",
      "2768                                 The Dark Half\n",
      "31071                      The Mother Of Invention\n",
      "1198                                 Touch of Evil\n",
      "19947                               The Guilt Trip\n",
      "26406                      Avengers: Age of Ultron\n",
      "1066                         Rebel Without a Cause\n",
      "1820                            All the King's Men\n",
      "43182                            The Kinematograph\n",
      "26440                                One More Time\n",
      "37717                                     Sharkman\n",
      "23147                                   Alter Egos\n",
      "6433                                       Purpose\n",
      "31893                     Fracchia The Human Beast\n",
      "19762                               Excuse My Dust\n",
      "42559                               The Other Half\n",
      "37325                               The Flying Man\n",
      "43482                              Somebody's Hero\n",
      "24822                                   One Chance\n",
      "36023                                  James White\n",
      "8572                                        Batman\n",
      "30711    Iron Man & Captain America: Heroes United\n",
      "6034                            Cradle 2 the Grave\n",
      "25288                                  Blood Dolls\n",
      "7776                      The Panic in Needle Park\n",
      "9586                                Racing Stripes\n",
      "29948                                       Sarkar\n",
      "6551                                    Paper Moon\n",
      "Name: title, dtype: object\n"
     ]
    }
   ],
   "source": [
    "print(a)"
   ]
  },
  {
   "cell_type": "code",
   "execution_count": 14,
   "metadata": {},
   "outputs": [],
   "source": [
    "b = get_recommendations(\"Iron Man 2\", metadata, indices, g_cosine_sim)"
   ]
  },
  {
   "cell_type": "markdown",
   "metadata": {},
   "source": [
    "장르에 대한 유사도"
   ]
  },
  {
   "cell_type": "code",
   "execution_count": 15,
   "metadata": {},
   "outputs": [
    {
     "name": "stdout",
     "output_type": "stream",
     "text": [
      "157                                       Congo\n",
      "169                             Johnny Mnemonic\n",
      "178     Mighty Morphin Power Rangers: The Movie\n",
      "256                                   Star Wars\n",
      "312                                    Stargate\n",
      "324                      Star Trek: Generations\n",
      "514                                   RoboCop 3\n",
      "528                                  The Shadow\n",
      "675                                        Solo\n",
      "755                            Independence Day\n",
      "820                            Escape from L.A.\n",
      "1087                                  The Abyss\n",
      "1149                    The Empire Strikes Back\n",
      "1162                         Return of the Jedi\n",
      "1250                           Forbidden Planet\n",
      "1302                   Star Trek: First Contact\n",
      "1317     Star Trek VI: The Undiscovered Country\n",
      "1318            Star Trek V: The Final Frontier\n",
      "1319            Star Trek II: The Wrath of Khan\n",
      "1320        Star Trek III: The Search for Spock\n",
      "1412                                  The Saint\n",
      "1424               Turbo: A Power Rangers Movie\n",
      "1452                          The Fifth Element\n",
      "1466              The Lost World: Jurassic Park\n",
      "1499                               Men in Black\n",
      "1510                                      Spawn\n",
      "1518                                      Steel\n",
      "1525                         Kull the Conqueror\n",
      "1589                          Starship Troopers\n",
      "Name: title, dtype: object\n"
     ]
    }
   ],
   "source": [
    "print(b)"
   ]
  },
  {
   "cell_type": "code",
   "execution_count": 16,
   "metadata": {},
   "outputs": [],
   "source": [
    "c = get_recommendations(\"Iron Man 2\" ,metadata, indices, t_cosine_sim)"
   ]
  },
  {
   "cell_type": "markdown",
   "metadata": {},
   "source": [
    "영화 제목으로만 유사도를 비교했을 때"
   ]
  },
  {
   "cell_type": "code",
   "execution_count": 17,
   "metadata": {},
   "outputs": [
    {
     "name": "stdout",
     "output_type": "stream",
     "text": [
      "12555                         Iron Man\n",
      "15105                       Iron Man 2\n",
      "20718                       Iron Man 3\n",
      "34421                         Iron Man\n",
      "41456                         Iron Man\n",
      "5202                         Iron Will\n",
      "9507                            3-Iron\n",
      "1690          The Man in the Iron Mask\n",
      "11882         The Man in the Iron Mask\n",
      "30876         The Man in the Iron Mask\n",
      "20683          The Invincible Iron Man\n",
      "19652      The Man with the Iron Fists\n",
      "29432    The Man with the Iron Fists 2\n",
      "4403              Tetsuo: The Iron Man\n",
      "25242                   Eight Iron Men\n",
      "18292                    The Iron Lady\n",
      "11414                      Iron Island\n",
      "18719                         Iron Sky\n",
      "18107                    The Iron Rose\n",
      "12312                   The Iron Horse\n",
      "727            The Man from Down Under\n",
      "918                       The Thin Man\n",
      "1164                     The Third Man\n",
      "4980                      The Last Man\n",
      "7086                    Who's the Man?\n",
      "7248                       Man on Fire\n",
      "7432                  Another Thin Man\n",
      "7435                After the Thin Man\n",
      "8271               The Man from Beyond\n",
      "Name: title, dtype: object\n"
     ]
    }
   ],
   "source": [
    "print(c)"
   ]
  },
  {
   "cell_type": "code",
   "execution_count": 18,
   "metadata": {},
   "outputs": [
    {
     "name": "stdout",
     "output_type": "stream",
     "text": [
      "0        5415.0\n",
      "1        2413.0\n",
      "2          92.0\n",
      "3          34.0\n",
      "4         173.0\n",
      "          ...  \n",
      "45063       1.0\n",
      "45064       3.0\n",
      "45065       6.0\n",
      "45066       0.0\n",
      "45067       0.0\n",
      "Name: vote_count, Length: 45068, dtype: float64\n"
     ]
    }
   ],
   "source": [
    "v = metadata['vote_count']\n",
    "print(v)"
   ]
  },
  {
   "cell_type": "code",
   "execution_count": 19,
   "metadata": {},
   "outputs": [
    {
     "name": "stdout",
     "output_type": "stream",
     "text": [
      "0        7.7\n",
      "1        6.9\n",
      "2        6.5\n",
      "3        6.1\n",
      "4        5.7\n",
      "        ... \n",
      "45063    4.0\n",
      "45064    9.0\n",
      "45065    3.8\n",
      "45066    0.0\n",
      "45067    0.0\n",
      "Name: vote_average, Length: 45068, dtype: float64\n"
     ]
    }
   ],
   "source": [
    "R = metadata['vote_average']\n",
    "print(R)"
   ]
  },
  {
   "cell_type": "code",
   "execution_count": 20,
   "metadata": {},
   "outputs": [
    {
     "name": "stdout",
     "output_type": "stream",
     "text": [
      "5.651645401087021\n"
     ]
    }
   ],
   "source": [
    "C = metadata['vote_average'].mean()\n",
    "print(C)"
   ]
  },
  {
   "cell_type": "code",
   "execution_count": 21,
   "metadata": {},
   "outputs": [
    {
     "name": "stdout",
     "output_type": "stream",
     "text": [
      "25.0\n"
     ]
    }
   ],
   "source": [
    "m = metadata['vote_count'].quantile(0.7)\n",
    "print(m)"
   ]
  },
  {
   "cell_type": "code",
   "execution_count": 22,
   "metadata": {},
   "outputs": [],
   "source": [
    "metadata['weighted_average']=((R*v)+ (C*m))/(v+m)"
   ]
  },
  {
   "cell_type": "code",
   "execution_count": 23,
   "metadata": {},
   "outputs": [],
   "source": [
    "metadata['weighted_average'] = metadata['weighted_average'].fillna(0)"
   ]
  },
  {
   "cell_type": "code",
   "execution_count": 24,
   "metadata": {},
   "outputs": [],
   "source": [
    "import numpy as np\n",
    "\n",
    "r_matrix= metadata['weighted_average'].to_numpy()\n",
    "r_matrix = r_matrix.reshape(-1, 1)"
   ]
  },
  {
   "cell_type": "code",
   "execution_count": 25,
   "metadata": {},
   "outputs": [
    {
     "name": "stdout",
     "output_type": "stream",
     "text": [
      "[[7.69058661]\n",
      " [6.88719899]\n",
      " [6.31872765]\n",
      " ...\n",
      " [5.29326242]\n",
      " [5.6516454 ]\n",
      " [5.6516454 ]]\n"
     ]
    }
   ],
   "source": [
    "print(r_matrix)"
   ]
  },
  {
   "cell_type": "code",
   "execution_count": 26,
   "metadata": {},
   "outputs": [],
   "source": [
    "r_cosine_sim = linear_kernel(r_matrix, r_matrix)"
   ]
  },
  {
   "cell_type": "code",
   "execution_count": 27,
   "metadata": {},
   "outputs": [],
   "source": [
    "c = get_recommendations(\"Iron Man 2\" ,metadata, indices, r_cosine_sim)"
   ]
  },
  {
   "cell_type": "markdown",
   "metadata": {},
   "source": [
    "평점에 대한 유사도 (비슷한 평점 추천)"
   ]
  },
  {
   "cell_type": "code",
   "execution_count": 28,
   "metadata": {},
   "outputs": [
    {
     "name": "stdout",
     "output_type": "stream",
     "text": [
      "314             The Shawshank Redemption\n",
      "829                        The Godfather\n",
      "39937                         Your Name.\n",
      "38779                       Planet Earth\n",
      "12448                    The Dark Knight\n",
      "2829                          Fight Club\n",
      "292                         Pulp Fiction\n",
      "522                     Schindler's List\n",
      "23539                           Whiplash\n",
      "5460                       Spirited Away\n",
      "2198                   Life Is Beautiful\n",
      "1173              The Godfather: Part II\n",
      "1147     One Flew Over the Cuckoo's Nest\n",
      "1171                              Psycho\n",
      "1179         Once Upon a Time in America\n",
      "42964                    Planet Earth II\n",
      "351                         Forrest Gump\n",
      "1149             The Empire Strikes Back\n",
      "18398                   The Intouchables\n",
      "289               Leon: The Professional\n",
      "3016                      The Green Mile\n",
      "1165                          GoodFellas\n",
      "2203                  American History X\n",
      "1156                        12 Angry Men\n",
      "9666                Howl's Moving Castle\n",
      "2870                   Princess Mononoke\n",
      "5854                         City of God\n",
      "872                          Rear Window\n",
      "5532              Grave of the Fireflies\n",
      "Name: title, dtype: object\n"
     ]
    }
   ],
   "source": [
    "print(c)"
   ]
  },
  {
   "cell_type": "code",
   "execution_count": 54,
   "metadata": {},
   "outputs": [],
   "source": [
    "from operator import itemgetter"
   ]
  },
  {
   "cell_type": "code",
   "execution_count": 93,
   "metadata": {},
   "outputs": [],
   "source": [
    "def combined(title, df, indices, cosine_sim1, cosine_sim2, cosine_sim3, cosine_sim4):\n",
    "    # Get the index of the movie that matches the title\n",
    "    idx = indices[title]\n",
    "\n",
    "    # Get the pairwise similarity scores of all movies with that movie\n",
    "    sim_scores1 = list(enumerate(cosine_sim1[idx])) # overview\n",
    "    sim_scores2 = list(enumerate(cosine_sim2[idx])) # title\n",
    "    sim_scores3 = list(enumerate(cosine_sim3[idx])) # genres\n",
    "    sim_scores4 = list(enumerate(cosine_sim4[idx])) # ratings\n",
    "           \n",
    "    #feauture scaling\n",
    "    s1_max = max(sim_scores1, key=itemgetter(1))[1]\n",
    "    s2_max = max(sim_scores2, key=itemgetter(1))[1]\n",
    "    s3_max = max(sim_scores3, key=itemgetter(1))[1]\n",
    "    s4_max = max(sim_scores4, key=itemgetter(1))[1]\n",
    "    \n",
    "    s1_min = min(sim_scores1, key=itemgetter(1))[1]\n",
    "    s2_min = min(sim_scores2, key=itemgetter(1))[1]\n",
    "    s3_min = min(sim_scores3, key=itemgetter(1))[1]\n",
    "    s4_min = min(sim_scores4, key=itemgetter(1))[1]\n",
    "\n",
    "    \n",
    "    \n",
    "    s1 = []\n",
    "    for i in range(len(sim_scores1)):\n",
    "        scaled_s1 = (sim_scores1[i][1] - s1_min) / (s1_max - s1_min)\n",
    "        #print(scaled_s1)\n",
    "        s1.append((sim_scores1[i][0], scaled_s1 * 0.6))\n",
    "    \n",
    "    s2 = []\n",
    "    for i in range(len(sim_scores2)):\n",
    "        scaled_s2 = (sim_scores2[i][1] - s2_min) / (s2_max - s2_min)\n",
    "        s2.append((sim_scores2[i][0], scaled_s2 * 0.2))\n",
    "    \n",
    "    s3 = []\n",
    "    for i in range(len(sim_scores3)):\n",
    "        scaled_s3 = (sim_scores3[i][1] - s3_min) / (s3_max - s3_min)\n",
    "        s3.append((sim_scores3[i][0], scaled_s3 * 0.15))\n",
    "    \n",
    "    s4 = []\n",
    "    for i in range(len(sim_scores4)):\n",
    "        scaled_s4 = (s4_max  - s4_min) / (s4_max  - s4_min)\n",
    "        s4.append((sim_scores4[i][0], scaled_s4 * 0.05))\n",
    "    \n",
    "    sim_scores = s1 + s2 + s3 + s4\n",
    "    \n",
    "    \n",
    "    # Sort the movies based on the similarity scores\n",
    "    sim_scores = sorted(sim_scores, key=lambda x: x[1], reverse=True)\n",
    "\n",
    "    # Get the scores of the 3 most similar movies\n",
    "    sim_scores = sim_scores[1:30]\n",
    "   \n",
    "    # Get the movie indices\n",
    "    movie_indices = [i[0] for i in sim_scores]\n",
    "\n",
    "    # Return the top 3 most similar movies\n",
    "    return df['title'].iloc[movie_indices], sim_scores"
   ]
  },
  {
   "cell_type": "code",
   "execution_count": 94,
   "metadata": {},
   "outputs": [],
   "source": [
    "combined = combined(\"Iron Man 2\" ,metadata, indices, cosine_sim, t_cosine_sim, g_cosine_sim, r_cosine_sim)"
   ]
  },
  {
   "cell_type": "markdown",
   "metadata": {},
   "source": [
    "설명, 이름, 장르, 평점 모두 고려한 추천 리스트"
   ]
  },
  {
   "cell_type": "code",
   "execution_count": 96,
   "metadata": {},
   "outputs": [
    {
     "name": "stdout",
     "output_type": "stream",
     "text": [
      "5567                                 Man of Iron\n",
      "12555                                   Iron Man\n",
      "15105                                 Iron Man 2\n",
      "20718                                 Iron Man 3\n",
      "34421                                   Iron Man\n",
      "41456                                   Iron Man\n",
      "5202                                   Iron Will\n",
      "9507                                      3-Iron\n",
      "96                                      Shopping\n",
      "157                                        Congo\n",
      "169                              Johnny Mnemonic\n",
      "178      Mighty Morphin Power Rangers: The Movie\n",
      "256                                    Star Wars\n",
      "312                                     Stargate\n",
      "324                       Star Trek: Generations\n",
      "514                                    RoboCop 3\n",
      "528                                   The Shadow\n",
      "675                                         Solo\n",
      "755                             Independence Day\n",
      "820                             Escape from L.A.\n",
      "1087                                   The Abyss\n",
      "1149                     The Empire Strikes Back\n",
      "1162                          Return of the Jedi\n",
      "1250                            Forbidden Planet\n",
      "1302                    Star Trek: First Contact\n",
      "1317      Star Trek VI: The Undiscovered Country\n",
      "1318             Star Trek V: The Final Frontier\n",
      "1319             Star Trek II: The Wrath of Khan\n",
      "1320         Star Trek III: The Search for Spock\n",
      "Name: title, dtype: object\n"
     ]
    }
   ],
   "source": [
    "print(combined)"
   ]
  },
  {
   "cell_type": "code",
   "execution_count": null,
   "metadata": {},
   "outputs": [],
   "source": []
  }
 ],
 "metadata": {
  "kernelspec": {
   "display_name": "Python 3",
   "language": "python",
   "name": "python3"
  },
  "language_info": {
   "codemirror_mode": {
    "name": "ipython",
    "version": 3
   },
   "file_extension": ".py",
   "mimetype": "text/x-python",
   "name": "python",
   "nbconvert_exporter": "python",
   "pygments_lexer": "ipython3",
   "version": "3.7.6"
  }
 },
 "nbformat": 4,
 "nbformat_minor": 4
}
