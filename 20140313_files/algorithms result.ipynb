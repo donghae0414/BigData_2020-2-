{
 "cells": [
  {
   "cell_type": "code",
   "execution_count": null,
   "metadata": {
    "colab": {
     "base_uri": "https://localhost:8080/"
    },
    "id": "SIFSlyCXXiYw",
    "outputId": "42c420ba-8e23-4055-de79-8a1be46da77c"
   },
   "outputs": [
    {
     "name": "stdout",
     "output_type": "stream",
     "text": [
      "Collecting scikit-surprise\n",
      "\u001b[?25l  Downloading https://files.pythonhosted.org/packages/97/37/5d334adaf5ddd65da99fc65f6507e0e4599d092ba048f4302fe8775619e8/scikit-surprise-1.1.1.tar.gz (11.8MB)\n",
      "\u001b[K     |████████████████████████████████| 11.8MB 4.5MB/s \n",
      "\u001b[?25hRequirement already satisfied: joblib>=0.11 in /usr/local/lib/python3.6/dist-packages (from scikit-surprise) (0.17.0)\n",
      "Requirement already satisfied: numpy>=1.11.2 in /usr/local/lib/python3.6/dist-packages (from scikit-surprise) (1.18.5)\n",
      "Requirement already satisfied: scipy>=1.0.0 in /usr/local/lib/python3.6/dist-packages (from scikit-surprise) (1.4.1)\n",
      "Requirement already satisfied: six>=1.10.0 in /usr/local/lib/python3.6/dist-packages (from scikit-surprise) (1.15.0)\n",
      "Building wheels for collected packages: scikit-surprise\n",
      "  Building wheel for scikit-surprise (setup.py) ... \u001b[?25l\u001b[?25hdone\n",
      "  Created wheel for scikit-surprise: filename=scikit_surprise-1.1.1-cp36-cp36m-linux_x86_64.whl size=1670936 sha256=e127f15e25f706a18fee079f2ed239b1ccedbca8098cddb691ad31d01f471c9e\n",
      "  Stored in directory: /root/.cache/pip/wheels/78/9c/3d/41b419c9d2aff5b6e2b4c0fc8d25c538202834058f9ed110d0\n",
      "Successfully built scikit-surprise\n",
      "Installing collected packages: scikit-surprise\n",
      "Successfully installed scikit-surprise-1.1.1\n"
     ]
    }
   ],
   "source": [
    "pip install scikit-surprise"
   ]
  },
  {
   "cell_type": "code",
   "execution_count": null,
   "metadata": {
    "id": "AA3K9-DyXRZp"
   },
   "outputs": [],
   "source": [
    "from __future__ import (absolute_import, division, print_function,\n",
    "unicode_literals)\n",
    "import time\n",
    "import datetime\n",
    "import random\n",
    "import numpy as np\n",
    "import six\n",
    "from tabulate import tabulate\n",
    "from surprise import Dataset\n",
    "from surprise.model_selection import cross_validate\n",
    "from surprise.model_selection import KFold\n",
    "from surprise import NormalPredictor\n",
    "from surprise import BaselineOnly\n",
    "from surprise import KNNBasic\n",
    "from surprise import KNNWithMeans\n",
    "from surprise import KNNBaseline\n",
    "from surprise import SVD\n",
    "from surprise import SVDpp\n",
    "from surprise import NMF\n",
    "from surprise import SlopeOne\n",
    "from surprise import CoClustering"
   ]
  },
  {
   "cell_type": "code",
   "execution_count": null,
   "metadata": {
    "id": "IQiPm7ufXc5Z"
   },
   "outputs": [],
   "source": [
    "algorithms = (SVD, NMF, SlopeOne, KNNBasic, KNNWithMeans, KNNBaseline, CoClustering, BaselineOnly, NormalPredictor)"
   ]
  },
  {
   "cell_type": "code",
   "execution_count": null,
   "metadata": {
    "id": "eo4tbUtNXgzu"
   },
   "outputs": [],
   "source": [
    "#raw table\n",
    "stable = 'http://surprise.readthedocs.io/en/stable/'\n",
    "LINK = {'SVD': '[{}]({})'.format('SVD',\n",
    "stable +\n",
    "'matrix_factorization.html#surprise.prediction_algorithms.matrix_factorization.SVD'),\n",
    "'SVDpp': '[{}]({})'.format('SVD++',\n",
    "stable +\n",
    "'matrix_factorization.html#surprise.prediction_algorithms.matrix_factorization.SVDpp'),\n",
    "'NMF': '[{}]({})'.format('NMF',\n",
    "stable +\n",
    "'matrix_factorization.html#surprise.prediction_algorithms.matrix_factorization.NMF'),\n",
    "'SlopeOne': '[{}]({})'.format('Slope One',\n",
    "stable +\n",
    "'slope_one.html#surprise.prediction_algorithms.slope_one.SlopeOne'),\n",
    "'KNNBasic': '[{}]({})'.format('k-NN',\n",
    "stable +\n",
    "'knn_inspired.html#surprise.prediction_algorithms.knns.KNNBasic'),\n",
    "'KNNWithMeans': '[{}]({})'.format('Centered k-NN',\n",
    "stable +\n",
    "'knn_inspired.html#surprise.prediction_algorithms.knns.KNNWithMeans'),\n",
    "'KNNBaseline': '[{}]({})'.format('k-NN Baseline',\n",
    "stable +\n",
    "'knn_inspired.html#surprise.prediction_algorithms.knns.KNNBaseline'),\n",
    "'CoClustering': '[{}]({})'.format('Co-Clustering',\n",
    "stable +\n",
    "'co_clustering.html#surprise.prediction_algorithms.co_clustering.CoClustering'),\n",
    "'BaselineOnly': '[{}]({})'.format('Baseline',\n",
    "stable +\n",
    "'basic_algorithms.html#surprise.prediction_algorithms.baseline_only.BaselineOnly'),\n",
    "'NormalPredictor': '[{}]({})'.format('Random',\n",
    "stable +\n",
    "'basic_algorithms.html#surprise.prediction_algorithms.random_pred.NormalPredictor'),\n",
    "'ml-100k': '[{}]({})'.format('Movielens 100k',\n",
    "'http://grouplens.org/datasets/movielens/100k'),\n",
    "'ml-1m': '[{}]({})'.format('Movielens 1M',\n",
    "'http://grouplens.org/datasets/movielens/1m'),\n",
    "}\n"
   ]
  },
  {
   "cell_type": "code",
   "execution_count": null,
   "metadata": {
    "id": "qn2hy2toX_E2"
   },
   "outputs": [],
   "source": [
    "np.random.seed(0)\n",
    "dataset = 'ml-1m'\n",
    "data = Dataset.load_builtin(dataset)\n",
    "kf = KFold(random_state=0) # cv option setting\n",
    "table = []"
   ]
  },
  {
   "cell_type": "code",
   "execution_count": null,
   "metadata": {
    "colab": {
     "base_uri": "https://localhost:8080/"
    },
    "id": "ziqMqHM5YA4S",
    "outputId": "9fc4b378-3ac9-438c-c4cb-07d5db6d824d"
   },
   "outputs": [
    {
     "name": "stdout",
     "output_type": "stream",
     "text": [
      "|:----------------------------------------------------------------------------------------------------------------------------------|------:|------:|\n",
      "| [SVD](http://surprise.readthedocs.io/en/stable/matrix_factorization.html#surprise.prediction_algorithms.matrix_factorization.SVD) | 0.874 | 0.686 |\n",
      "|:----------------------------------------------------------------------------------------------------------------------------------|------:|------:|\n",
      "| [NMF](http://surprise.readthedocs.io/en/stable/matrix_factorization.html#surprise.prediction_algorithms.matrix_factorization.NMF) | 0.917 | 0.725 |\n",
      "|:-----------------------------------------------------------------------------------------------------------------------|------:|------:|\n",
      "| [Slope One](http://surprise.readthedocs.io/en/stable/slope_one.html#surprise.prediction_algorithms.slope_one.SlopeOne) | 0.907 | 0.715 |\n",
      "Computing the msd similarity matrix...\n",
      "Done computing similarity matrix.\n",
      "Computing the msd similarity matrix...\n",
      "Done computing similarity matrix.\n",
      "Computing the msd similarity matrix...\n",
      "Done computing similarity matrix.\n",
      "Computing the msd similarity matrix...\n",
      "Done computing similarity matrix.\n",
      "Computing the msd similarity matrix...\n",
      "Done computing similarity matrix.\n",
      "|:----------------------------------------------------------------------------------------------------------------|------:|------:|\n",
      "| [k-NN](http://surprise.readthedocs.io/en/stable/knn_inspired.html#surprise.prediction_algorithms.knns.KNNBasic) | 0.923 | 0.727 |\n",
      "Computing the msd similarity matrix...\n",
      "Done computing similarity matrix.\n",
      "Computing the msd similarity matrix...\n",
      "Done computing similarity matrix.\n",
      "Computing the msd similarity matrix...\n",
      "Done computing similarity matrix.\n",
      "Computing the msd similarity matrix...\n",
      "Done computing similarity matrix.\n",
      "Computing the msd similarity matrix...\n",
      "Done computing similarity matrix.\n",
      "|:-----------------------------------------------------------------------------------------------------------------------------|------:|------:|\n",
      "| [Centered k-NN](http://surprise.readthedocs.io/en/stable/knn_inspired.html#surprise.prediction_algorithms.knns.KNNWithMeans) | 0.929 | 0.738 |\n",
      "Estimating biases using als...\n",
      "Computing the msd similarity matrix...\n",
      "Done computing similarity matrix.\n",
      "Estimating biases using als...\n",
      "Computing the msd similarity matrix...\n",
      "Done computing similarity matrix.\n",
      "Estimating biases using als...\n",
      "Computing the msd similarity matrix...\n",
      "Done computing similarity matrix.\n",
      "Estimating biases using als...\n",
      "Computing the msd similarity matrix...\n",
      "Done computing similarity matrix.\n",
      "Estimating biases using als...\n",
      "Computing the msd similarity matrix...\n",
      "Done computing similarity matrix.\n",
      "|:----------------------------------------------------------------------------------------------------------------------------|------:|------:|\n",
      "| [k-NN Baseline](http://surprise.readthedocs.io/en/stable/knn_inspired.html#surprise.prediction_algorithms.knns.KNNBaseline) | 0.895 | 0.706 |\n",
      "|:---------------------------------------------------------------------------------------------------------------------------------------|------:|------:|\n",
      "| [Co-Clustering](http://surprise.readthedocs.io/en/stable/co_clustering.html#surprise.prediction_algorithms.co_clustering.CoClustering) | 0.916 | 0.718 |\n",
      "Estimating biases using als...\n",
      "Estimating biases using als...\n",
      "Estimating biases using als...\n",
      "Estimating biases using als...\n",
      "Estimating biases using als...\n",
      "|:-------------------------------------------------------------------------------------------------------------------------------------|------:|------:|\n",
      "| [Baseline](http://surprise.readthedocs.io/en/stable/basic_algorithms.html#surprise.prediction_algorithms.baseline_only.BaselineOnly) | 0.909 | 0.719 |\n",
      "|:------------------------------------------------------------------------------------------------------------------------------------|------:|------:|\n",
      "| [Random](http://surprise.readthedocs.io/en/stable/basic_algorithms.html#surprise.prediction_algorithms.random_pred.NormalPredictor) | 1.505 | 1.207 |\n"
     ]
    }
   ],
   "source": [
    "for algorithm in algorithms:\n",
    "    out = cross_validate(algorithm(), data, ['rmse', 'mae'], kf)\n",
    "    link = LINK[algorithm.__name__]\n",
    "    mean_rmse = '{:.3f}'.format(np.mean(out['test_rmse']))\n",
    "    mean_mae = '{:.3f}'.format(np.mean(out['test_mae']))\n",
    "    new_line = [link, mean_rmse, mean_mae]\n",
    "    print(tabulate([new_line], tablefmt=\"pipe\")) # print current algo perf\n",
    "    table.append(new_line)"
   ]
  },
  {
   "cell_type": "code",
   "execution_count": null,
   "metadata": {
    "colab": {
     "base_uri": "https://localhost:8080/"
    },
    "id": "qgYHLiWyln_v",
    "outputId": "94d91fa8-e460-4cd2-a318-36c54b20d6b4"
   },
   "outputs": [
    {
     "name": "stdout",
     "output_type": "stream",
     "text": [
      "| [Movielens 1M](http://grouplens.org/datasets/movielens/1m)                                                                             |   RMSE |   MAE |\n",
      "|:---------------------------------------------------------------------------------------------------------------------------------------|-------:|------:|\n",
      "| [SVD](http://surprise.readthedocs.io/en/stable/matrix_factorization.html#surprise.prediction_algorithms.matrix_factorization.SVD)      |  0.874 | 0.686 |\n",
      "| [NMF](http://surprise.readthedocs.io/en/stable/matrix_factorization.html#surprise.prediction_algorithms.matrix_factorization.NMF)      |  0.917 | 0.725 |\n",
      "| [Slope One](http://surprise.readthedocs.io/en/stable/slope_one.html#surprise.prediction_algorithms.slope_one.SlopeOne)                 |  0.907 | 0.715 |\n",
      "| [k-NN](http://surprise.readthedocs.io/en/stable/knn_inspired.html#surprise.prediction_algorithms.knns.KNNBasic)                        |  0.923 | 0.727 |\n",
      "| [Centered k-NN](http://surprise.readthedocs.io/en/stable/knn_inspired.html#surprise.prediction_algorithms.knns.KNNWithMeans)           |  0.929 | 0.738 |\n",
      "| [k-NN Baseline](http://surprise.readthedocs.io/en/stable/knn_inspired.html#surprise.prediction_algorithms.knns.KNNBaseline)            |  0.895 | 0.706 |\n",
      "| [Co-Clustering](http://surprise.readthedocs.io/en/stable/co_clustering.html#surprise.prediction_algorithms.co_clustering.CoClustering) |  0.916 | 0.718 |\n",
      "| [Baseline](http://surprise.readthedocs.io/en/stable/basic_algorithms.html#surprise.prediction_algorithms.baseline_only.BaselineOnly)   |  0.909 | 0.719 |\n",
      "| [Random](http://surprise.readthedocs.io/en/stable/basic_algorithms.html#surprise.prediction_algorithms.random_pred.NormalPredictor)    |  1.505 | 1.207 |\n"
     ]
    }
   ],
   "source": [
    "header = [LINK[dataset],'RMSE','MAE']\n",
    "print(tabulate(table, header, tablefmt=\"pipe\"))"
   ]
  }
 ],
 "metadata": {
  "accelerator": "GPU",
  "colab": {
   "name": "Untitled1.ipynb",
   "provenance": []
  },
  "kernelspec": {
   "display_name": "Python 3",
   "language": "python",
   "name": "python3"
  },
  "language_info": {
   "codemirror_mode": {
    "name": "ipython",
    "version": 3
   },
   "file_extension": ".py",
   "mimetype": "text/x-python",
   "name": "python",
   "nbconvert_exporter": "python",
   "pygments_lexer": "ipython3",
   "version": "3.7.6"
  }
 },
 "nbformat": 4,
 "nbformat_minor": 1
}
